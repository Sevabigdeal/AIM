{
 "cells": [
  {
   "cell_type": "code",
   "execution_count": 2,
   "id": "f8b3979f",
   "metadata": {},
   "outputs": [],
   "source": [
    "# Задача 1.\n",
    "# Исследовать качество работы классификаторы в зависимости от выбранного метода преобразования данных\n",
    "# Изучить методы преобразования данных: from sklearn.preprocessing https://scikit-learn.org/stable/modules/preprocessing.html\n",
    "# Критерий качества - accuracy\n",
    "# Сформировать таблицу для сравнения"
   ]
  },
  {
   "cell_type": "code",
   "execution_count": 4,
   "id": "c38bf81e-0bb1-4ba6-a1ef-bba77c82f3d9",
   "metadata": {},
   "outputs": [],
   "source": [
    "import pandas as pd\n",
    "import numpy as np\n",
    "from matplotlib import pyplot as plt\n",
    "from sklearn.preprocessing import StandardScaler, MinMaxScaler, MaxAbsScaler, RobustScaler, Normalizer\n",
    "from sklearn.linear_model import LogisticRegression\n",
    "from sklearn.svm import SVC\n",
    "from sklearn.neighbors import KNeighborsClassifier\n",
    "from sklearn.tree import DecisionTreeClassifier\n",
    "from sklearn.pipeline import make_pipeline\n",
    "from sklearn.datasets import load_iris\n",
    "\n",
    "# Загрузка данных\n",
    "iris = load_iris()\n",
    "X, y = iris.data[:, :2], iris.target  # Используем первые два признака\n"
   ]
  },
  {
   "cell_type": "code",
   "execution_count": 7,
   "id": "1edd719d-26d3-4a07-b485-cd95df39d202",
   "metadata": {},
   "outputs": [],
   "source": [
    "from sklearn.preprocessing import StandardScaler, MinMaxScaler, MaxAbsScaler, RobustScaler, Normalizer\n",
    "from sklearn.linear_model import LogisticRegression\n",
    "from sklearn.svm import SVC\n",
    "from sklearn.neighbors import KNeighborsClassifier\n",
    "from sklearn.tree import DecisionTreeClassifier\n",
    "from sklearn.pipeline import make_pipeline\n",
    "from sklearn.model_selection import cross_val_score\n",
    "\n",
    "# Определение методов масштабирования и классификаторов\n",
    "scalers = {\n",
    "    'StandardScaler': StandardScaler(),\n",
    "    'MinMaxScaler': MinMaxScaler(),\n",
    "    'MaxAbsScaler': MaxAbsScaler(),\n",
    "    'RobustScaler': RobustScaler(),\n",
    "    'Normalizer': Normalizer()\n",
    "}\n",
    "classifiers = {\n",
    "    'LogisticRegression': LogisticRegression(),\n",
    "    'SVC': SVC(),\n",
    "    'KNeighborsClassifier': KNeighborsClassifier(),\n",
    "    'DecisionTreeClassifier': DecisionTreeClassifier()\n",
    "}\n",
    "results = pd.DataFrame(index=scalers.keys(), columns=classifiers.keys())\n"
   ]
  },
  {
   "cell_type": "code",
   "execution_count": 9,
   "id": "14fae217-5b5a-4278-860a-f767d9ceb5b1",
   "metadata": {},
   "outputs": [
    {
     "name": "stdout",
     "output_type": "stream",
     "text": [
      "Результаты оценки качества классификаторов:\n",
      "               LogisticRegression       SVC KNeighborsClassifier  \\\n",
      "StandardScaler           0.813333  0.806667             0.773333   \n",
      "MinMaxScaler             0.813333  0.806667             0.773333   \n",
      "MaxAbsScaler             0.813333  0.806667                 0.76   \n",
      "RobustScaler                 0.82  0.806667             0.773333   \n",
      "Normalizer                   0.68       0.7                 0.66   \n",
      "\n",
      "               DecisionTreeClassifier  \n",
      "StandardScaler               0.713333  \n",
      "MinMaxScaler                 0.706667  \n",
      "MaxAbsScaler                 0.706667  \n",
      "RobustScaler                 0.713333  \n",
      "Normalizer                       0.66  \n"
     ]
    }
   ],
   "source": [
    "# Оценка качества классификации для каждой комбинации скейлера и классификатора\n",
    "for scaler_name, scaler in scalers.items():\n",
    "    for classifier_name, classifier in classifiers.items():\n",
    "        model = make_pipeline(scaler, classifier)\n",
    "        scores = cross_val_score(model, X, y, cv=5)  # 5-кратная кросс-валидация\n",
    "        results.loc[scaler_name, classifier_name] = scores.mean()\n",
    "\n",
    "# Вывод результатов\n",
    "print(\"Результаты оценки качества классификаторов:\")\n",
    "print(results)\n",
    "\n"
   ]
  }
 ],
 "metadata": {
  "kernelspec": {
   "display_name": "Python [conda env:base] *",
   "language": "python",
   "name": "conda-base-py"
  },
  "language_info": {
   "codemirror_mode": {
    "name": "ipython",
    "version": 3
   },
   "file_extension": ".py",
   "mimetype": "text/x-python",
   "name": "python",
   "nbconvert_exporter": "python",
   "pygments_lexer": "ipython3",
   "version": "3.12.7"
  }
 },
 "nbformat": 4,
 "nbformat_minor": 5
}
